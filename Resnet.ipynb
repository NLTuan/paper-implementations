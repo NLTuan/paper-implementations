{
 "cells": [
  {
   "cell_type": "code",
   "execution_count": 37,
   "id": "5f049a83-a088-4780-a401-42009725f1b4",
   "metadata": {},
   "outputs": [],
   "source": [
    "import torch\n",
    "from torch import nn, optim, tensor\n",
    "from typing import List, Optional\n",
    "\n",
    "from datasets import load_dataset\n",
    "import torchvision.transforms as transforms\n",
    "from torch.optim.lr_scheduler import CosineAnnealingLR\n",
    "import torch.nn.functional as F\n",
    "\n",
    "from torch.utils.data import DataLoader"
   ]
  },
  {
   "cell_type": "code",
   "execution_count": 2,
   "id": "cdc121f3-92ae-40df-91d5-723ba841a73d",
   "metadata": {},
   "outputs": [],
   "source": [
    "class ProjectionLayer(nn.Module):\n",
    "    def __init__(self, in_channels, out_channels, stride):\n",
    "        super().__init__()\n",
    "        self.proj = nn.Conv2d(in_channels, out_channels, kernel_size=1, stride=stride)\n",
    "        self.bn = nn.BatchNorm2d(out_channels)\n",
    "        \n",
    "    def forward(self, x):\n",
    "        return self.bn(self.proj(x))"
   ]
  },
  {
   "cell_type": "code",
   "execution_count": 3,
   "id": "102f78be-75cb-4b77-b039-4499bf16b471",
   "metadata": {},
   "outputs": [],
   "source": [
    "class ResNetBlock(nn.Module):\n",
    "    def __init__(self, in_channels, out_channels, stride, ks =3):\n",
    "        super().__init__()\n",
    "        self.conv1 = nn.Conv2d(in_channels, out_channels, kernel_size=3, stride=stride, padding=3//2)\n",
    "        self.bn1 = nn.BatchNorm2d(out_channels)\n",
    "        self.act1 = nn.ReLU()\n",
    "        self.conv2 = nn.Conv2d(out_channels, out_channels, kernel_size=3, stride=1, padding=3//2)\n",
    "        \n",
    "        if stride != 1 or in_channels != out_channels:\n",
    "            self.proj = ProjectionLayer(in_channels, out_channels, stride)\n",
    "        else:\n",
    "            self.proj = nn.Identity()\n",
    "        \n",
    "        self.bn2 = nn.BatchNorm2d(out_channels)\n",
    "        self.act2 = nn.ReLU()\n",
    "        \n",
    "    def forward(self, x):\n",
    "        projection = self.proj(x)\n",
    "        x = self.act1(self.bn1(self.conv1(x)))\n",
    "        x = self.act2(projection + self.bn2(self.conv2(x)))\n",
    "        return x\n",
    "        "
   ]
  },
  {
   "cell_type": "code",
   "execution_count": 4,
   "id": "d753da82-ebea-4555-bc27-38eb1dbbf17d",
   "metadata": {},
   "outputs": [
    {
     "data": {
      "text/plain": [
       "torch.Size([1, 100, 64, 64])"
      ]
     },
     "execution_count": 4,
     "metadata": {},
     "output_type": "execute_result"
    }
   ],
   "source": [
    "data = torch.randn(1, 3, 128, 128)\n",
    "resnet = ResNetBlock(3, 100, 2)\n",
    "resnet(data).shape"
   ]
  },
  {
   "cell_type": "code",
   "execution_count": 5,
   "id": "30925474-1b5f-4f90-b59e-b6fb01854c1c",
   "metadata": {},
   "outputs": [],
   "source": [
    "class BottleneckResNet(nn.Module):\n",
    "    def __init__(self, in_channels, bottleneck_channels, out_channels, stride):\n",
    "        super().__init__()\n",
    "        if in_channels != out_channels or stride !=1:\n",
    "            self.proj = ProjectionLayer(in_channels, out_channels, stride)\n",
    "        else:\n",
    "            self.proj = nn.Identity()\n",
    "        \n",
    "        self.net = nn.Sequential(\n",
    "            nn.Conv2d(in_channels, bottleneck_channels, kernel_size=1, stride=1),\n",
    "            nn.BatchNorm2d(bottleneck_channels),\n",
    "            nn.ReLU(),\n",
    "            nn.Conv2d(bottleneck_channels, bottleneck_channels, kernel_size=3, stride=stride, padding=1),\n",
    "            nn.BatchNorm2d(bottleneck_channels),\n",
    "            nn.ReLU(),\n",
    "            nn.Conv2d(bottleneck_channels, out_channels, kernel_size=3, stride=1, padding=1),\n",
    "            nn.BatchNorm2d(out_channels),\n",
    "        )\n",
    "        self.act = nn.ReLU()\n",
    "        \n",
    "    def forward(self, x):\n",
    "        return self.act(self.proj(x) + self.net(x))"
   ]
  },
  {
   "cell_type": "code",
   "execution_count": 6,
   "id": "ca036eda-1d74-40bb-817f-8e1ade228608",
   "metadata": {},
   "outputs": [
    {
     "data": {
      "text/plain": [
       "torch.Size([1, 23, 128, 128])"
      ]
     },
     "execution_count": 6,
     "metadata": {},
     "output_type": "execute_result"
    }
   ],
   "source": [
    "resnet = BottleneckResNet(33, 223, 23, 1)\n",
    "data = torch.randn(1, 33, 128, 128)\n",
    "resnet(data).shape"
   ]
  },
  {
   "cell_type": "code",
   "execution_count": 60,
   "id": "84647bc6-6d4e-49f1-9f0d-36f5e2b24b28",
   "metadata": {},
   "outputs": [],
   "source": [
    "class ResNet(nn.Module):\n",
    "    def __init__(self, n_blocks,\n",
    "                n_channels: Optional[List[int]], \n",
    "                bottlenecks: Optional[List[int]], \n",
    "                img_channels=3,\n",
    "                first_kernel_size=7,\n",
    "                out_channels=1000\n",
    "                ):\n",
    "        \n",
    "        super().__init__()\n",
    "        \n",
    "        modules = [\n",
    "            nn.Conv2d(img_channels, n_channels[0], first_kernel_size, 2, first_kernel_size//2),\n",
    "            nn.BatchNorm2d(n_channels[0]),\n",
    "        ]\n",
    "        \n",
    "        assert len(n_blocks) == len(n_channels)\n",
    "        if bottlenecks is None:\n",
    "            for pos, (block_len, channel_size) in enumerate(zip(n_blocks, n_channels)):\n",
    "                for i in range(block_len - 1):\n",
    "                    modules.append(ResNetBlock(channel_size, channel_size, 1))\n",
    "                if pos != len(n_blocks)-1:\n",
    "                    modules.append(ResNetBlock(channel_size, n_channels[pos+1], 2))\n",
    "    \n",
    "        else:\n",
    "            for pos, (block_len, bottleneck_size, channel_size) in enumerate(zip(n_blocks, bottlenecks, n_channels)):\n",
    "                for i in range(block_len - 1):\n",
    "                    modules.append(BottleneckResNet(channel_size, bottleneck_size, channel_size, 1))\n",
    "                if pos != len(n_blocks)-1:\n",
    "                    modules.append(BottleneckResNet(channel_size, bottleneck_size, n_channels[pos+1], 2))\n",
    "        \n",
    "        self.net = nn.Sequential(*modules)\n",
    "        self.fc = nn.Linear(n_channels[-1], out_channels)\n",
    "        \n",
    "        \n",
    "    def forward(self, x):\n",
    "        x = self.net(x)\n",
    "        x = x.view(x.shape[0], x.shape[1], -1)\n",
    "        x = x.mean(-1)\n",
    "        x = self.fc(x)\n",
    "        \n",
    "        return x"
   ]
  },
  {
   "cell_type": "code",
   "execution_count": 61,
   "id": "60ba4c76-80a7-45ee-a658-fab5f11f4320",
   "metadata": {},
   "outputs": [],
   "source": [
    "resnet = ResNet([2, 2], [64, 128], None)"
   ]
  },
  {
   "cell_type": "code",
   "execution_count": 62,
   "id": "070a978b-cab8-4067-b0d1-c8e3459cc7c6",
   "metadata": {},
   "outputs": [
    {
     "data": {
      "text/plain": [
       "torch.Size([2, 1000])"
      ]
     },
     "execution_count": 62,
     "metadata": {},
     "output_type": "execute_result"
    }
   ],
   "source": [
    "data = torch.randn(2, 3, 128, 128)\n",
    "resnet(data).shape"
   ]
  },
  {
   "cell_type": "code",
   "execution_count": 63,
   "id": "49210994-2f8a-40c8-ac0e-7d8562f7e7c1",
   "metadata": {},
   "outputs": [],
   "source": [
    "ds = load_dataset(\"ylecun/mnist\")"
   ]
  },
  {
   "cell_type": "code",
   "execution_count": 64,
   "id": "3d634e31-3727-4066-9bc2-779c6c941d5c",
   "metadata": {},
   "outputs": [],
   "source": [
    "x, y = ds['train'].features"
   ]
  },
  {
   "cell_type": "code",
   "execution_count": 65,
   "id": "261db70f-8264-42c1-b41c-995bc3ce108f",
   "metadata": {},
   "outputs": [],
   "source": [
    "dsd_trn = ds['train']\n",
    "dsd_val = ds['test']\n",
    "\n",
    "tfs = transforms.Compose([\n",
    "    transforms.ToTensor(),\n",
    "    transforms.Resize(32)\n",
    "])\n",
    "    \n",
    "\n",
    "def collate_fn(b):\n",
    "    xb = torch.stack([tfs(o[x]) for o in b])\n",
    "    yb = torch.stack([tensor(o[y]) for o in b])\n",
    "    return xb, yb"
   ]
  },
  {
   "cell_type": "code",
   "execution_count": 70,
   "id": "7b1863d2-5a9d-4e38-89da-76b1a2d7b24e",
   "metadata": {},
   "outputs": [],
   "source": [
    "dl_trn = DataLoader(dsd_trn, batch_size=300, collate_fn=collate_fn)"
   ]
  },
  {
   "cell_type": "code",
   "execution_count": 71,
   "id": "6010afbe-03a8-4b9a-9b49-8670e0968dfb",
   "metadata": {},
   "outputs": [
    {
     "data": {
      "text/plain": [
       "(tensor([[[[0., 0., 0.,  ..., 0., 0., 0.],\n",
       "           [0., 0., 0.,  ..., 0., 0., 0.],\n",
       "           [0., 0., 0.,  ..., 0., 0., 0.],\n",
       "           ...,\n",
       "           [0., 0., 0.,  ..., 0., 0., 0.],\n",
       "           [0., 0., 0.,  ..., 0., 0., 0.],\n",
       "           [0., 0., 0.,  ..., 0., 0., 0.]]],\n",
       " \n",
       " \n",
       "         [[[0., 0., 0.,  ..., 0., 0., 0.],\n",
       "           [0., 0., 0.,  ..., 0., 0., 0.],\n",
       "           [0., 0., 0.,  ..., 0., 0., 0.],\n",
       "           ...,\n",
       "           [0., 0., 0.,  ..., 0., 0., 0.],\n",
       "           [0., 0., 0.,  ..., 0., 0., 0.],\n",
       "           [0., 0., 0.,  ..., 0., 0., 0.]]],\n",
       " \n",
       " \n",
       "         [[[0., 0., 0.,  ..., 0., 0., 0.],\n",
       "           [0., 0., 0.,  ..., 0., 0., 0.],\n",
       "           [0., 0., 0.,  ..., 0., 0., 0.],\n",
       "           ...,\n",
       "           [0., 0., 0.,  ..., 0., 0., 0.],\n",
       "           [0., 0., 0.,  ..., 0., 0., 0.],\n",
       "           [0., 0., 0.,  ..., 0., 0., 0.]]],\n",
       " \n",
       " \n",
       "         ...,\n",
       " \n",
       " \n",
       "         [[[0., 0., 0.,  ..., 0., 0., 0.],\n",
       "           [0., 0., 0.,  ..., 0., 0., 0.],\n",
       "           [0., 0., 0.,  ..., 0., 0., 0.],\n",
       "           ...,\n",
       "           [0., 0., 0.,  ..., 0., 0., 0.],\n",
       "           [0., 0., 0.,  ..., 0., 0., 0.],\n",
       "           [0., 0., 0.,  ..., 0., 0., 0.]]],\n",
       " \n",
       " \n",
       "         [[[0., 0., 0.,  ..., 0., 0., 0.],\n",
       "           [0., 0., 0.,  ..., 0., 0., 0.],\n",
       "           [0., 0., 0.,  ..., 0., 0., 0.],\n",
       "           ...,\n",
       "           [0., 0., 0.,  ..., 0., 0., 0.],\n",
       "           [0., 0., 0.,  ..., 0., 0., 0.],\n",
       "           [0., 0., 0.,  ..., 0., 0., 0.]]],\n",
       " \n",
       " \n",
       "         [[[0., 0., 0.,  ..., 0., 0., 0.],\n",
       "           [0., 0., 0.,  ..., 0., 0., 0.],\n",
       "           [0., 0., 0.,  ..., 0., 0., 0.],\n",
       "           ...,\n",
       "           [0., 0., 0.,  ..., 0., 0., 0.],\n",
       "           [0., 0., 0.,  ..., 0., 0., 0.],\n",
       "           [0., 0., 0.,  ..., 0., 0., 0.]]]]),\n",
       " tensor([5, 0, 4, 1, 9, 2, 1, 3, 1, 4, 3, 5, 3, 6, 1, 7, 2, 8, 6, 9, 4, 0, 9, 1,\n",
       "         1, 2, 4, 3, 2, 7, 3, 8, 6, 9, 0, 5, 6, 0, 7, 6, 1, 8, 7, 9, 3, 9, 8, 5,\n",
       "         9, 3, 3, 0, 7, 4, 9, 8, 0, 9, 4, 1, 4, 4, 6, 0, 4, 5, 6, 1, 0, 0, 1, 7,\n",
       "         1, 6, 3, 0, 2, 1, 1, 7, 9, 0, 2, 6, 7, 8, 3, 9, 0, 4, 6, 7, 4, 6, 8, 0,\n",
       "         7, 8, 3, 1, 5, 7, 1, 7, 1, 1, 6, 3, 0, 2, 9, 3, 1, 1, 0, 4, 9, 2, 0, 0,\n",
       "         2, 0, 2, 7, 1, 8, 6, 4, 1, 6, 3, 4, 5, 9, 1, 3, 3, 8, 5, 4, 7, 7, 4, 2,\n",
       "         8, 5, 8, 6, 7, 3, 4, 6, 1, 9, 9, 6, 0, 3, 7, 2, 8, 2, 9, 4, 4, 6, 4, 9,\n",
       "         7, 0, 9, 2, 9, 5, 1, 5, 9, 1, 2, 3, 2, 3, 5, 9, 1, 7, 6, 2, 8, 2, 2, 5,\n",
       "         0, 7, 4, 9, 7, 8, 3, 2, 1, 1, 8, 3, 6, 1, 0, 3, 1, 0, 0, 1, 7, 2, 7, 3,\n",
       "         0, 4, 6, 5, 2, 6, 4, 7, 1, 8, 9, 9, 3, 0, 7, 1, 0, 2, 0, 3, 5, 4, 6, 5,\n",
       "         8, 6, 3, 7, 5, 8, 0, 9, 1, 0, 3, 1, 2, 2, 3, 3, 6, 4, 7, 5, 0, 6, 2, 7,\n",
       "         9, 8, 5, 9, 2, 1, 1, 4, 4, 5, 6, 4, 1, 2, 5, 3, 9, 3, 9, 0, 5, 9, 6, 5,\n",
       "         7, 4, 1, 3, 4, 0, 4, 8, 0, 4, 3, 6]))"
      ]
     },
     "execution_count": 71,
     "metadata": {},
     "output_type": "execute_result"
    }
   ],
   "source": [
    "next(iter(dl_trn))"
   ]
  },
  {
   "cell_type": "code",
   "execution_count": 90,
   "id": "41cdabb9-2eb5-4412-8781-e5bb8b3ea990",
   "metadata": {},
   "outputs": [
    {
     "name": "stdout",
     "output_type": "stream",
     "text": [
      "tensor(2.4311, grad_fn=<NllLossBackward0>)\n",
      "tensor(2.3520, grad_fn=<NllLossBackward0>)\n",
      "tensor(1.7827, grad_fn=<NllLossBackward0>)\n",
      "tensor(1.4508, grad_fn=<NllLossBackward0>)\n",
      "tensor(1.0181, grad_fn=<NllLossBackward0>)\n",
      "tensor(0.6496, grad_fn=<NllLossBackward0>)\n",
      "tensor(0.3520, grad_fn=<NllLossBackward0>)\n",
      "tensor(0.3655, grad_fn=<NllLossBackward0>)\n",
      "tensor(0.2827, grad_fn=<NllLossBackward0>)\n",
      "tensor(0.1909, grad_fn=<NllLossBackward0>)\n",
      "tensor(0.4274, grad_fn=<NllLossBackward0>)\n",
      "tensor(0.2304, grad_fn=<NllLossBackward0>)\n",
      "tensor(0.1500, grad_fn=<NllLossBackward0>)\n",
      "tensor(0.0874, grad_fn=<NllLossBackward0>)\n",
      "tensor(0.0732, grad_fn=<NllLossBackward0>)\n",
      "tensor(0.0549, grad_fn=<NllLossBackward0>)\n",
      "tensor(0.0501, grad_fn=<NllLossBackward0>)\n",
      "tensor(0.0825, grad_fn=<NllLossBackward0>)\n",
      "tensor(0.0762, grad_fn=<NllLossBackward0>)\n",
      "tensor(0.0403, grad_fn=<NllLossBackward0>)\n",
      "tensor(0.0308, grad_fn=<NllLossBackward0>)\n",
      "tensor(0.1525, grad_fn=<NllLossBackward0>)\n"
     ]
    }
   ],
   "source": [
    "n_epochs = 2\n",
    "tmax = n_epochs * len(dl_trn)\n",
    "\n",
    "lr= 1\n",
    "model = ResNet([4, 6], [64, 128], [64, 64], img_channels=1, out_channels=10, first_kernel_size=3)\n",
    "opt = optim.AdamW(model.parameters(), lr)\n",
    "schedo = CosineAnnealingLR(opt, tmax, )\n",
    "\n",
    "for n in range(n_epochs):\n",
    "    for i, (xb, yb) in enumerate(dl_trn):\n",
    "        out = model(xb)\n",
    "        loss = F.cross_entropy(out, yb)\n",
    "    \n",
    "        loss.backward()\n",
    "\n",
    "        with torch.no_grad():\n",
    "            opt.step()\n",
    "            opt.zero_grad()\n",
    "            schedo.step()\n",
    "            \n",
    "            if i % (len(dl_trn)/10) == 0 or i == len(dl_trn) -1:\n",
    "                print(loss)"
   ]
  },
  {
   "cell_type": "code",
   "execution_count": 83,
   "id": "43a1e5f1-cf20-4947-831a-f3729e9fe814",
   "metadata": {},
   "outputs": [],
   "source": [
    "dl_val = DataLoader(dsd_val, batch_size=300, collate_fn=collate_fn)"
   ]
  },
  {
   "cell_type": "code",
   "execution_count": 91,
   "id": "581e90a2-7dff-40b9-a44b-847d9a5e0850",
   "metadata": {},
   "outputs": [],
   "source": [
    "model.eval()\n",
    "accuracy = []\n",
    "with torch.no_grad():\n",
    "    for i, (xb, yb) in enumerate(dl_val):\n",
    "        out = model(xb)\n",
    "        out.softmax(-1)\n",
    "        accuracy.append((out.argmax(-1) == yb).float().mean())"
   ]
  },
  {
   "cell_type": "code",
   "execution_count": 92,
   "id": "aefa8250-6196-4cbb-9820-031d8a328215",
   "metadata": {},
   "outputs": [
    {
     "name": "stdout",
     "output_type": "stream",
     "text": [
      "tensor(0.9893)\n"
     ]
    }
   ],
   "source": [
    "print(tensor(accuracy).mean())"
   ]
  },
  {
   "cell_type": "code",
   "execution_count": null,
   "id": "60297244-9515-40de-a905-3e2304ac9146",
   "metadata": {},
   "outputs": [],
   "source": []
  }
 ],
 "metadata": {
  "kernelspec": {
   "display_name": "Python 3 (ipykernel)",
   "language": "python",
   "name": "python3"
  },
  "language_info": {
   "codemirror_mode": {
    "name": "ipython",
    "version": 3
   },
   "file_extension": ".py",
   "mimetype": "text/x-python",
   "name": "python",
   "nbconvert_exporter": "python",
   "pygments_lexer": "ipython3",
   "version": "3.9.13"
  }
 },
 "nbformat": 4,
 "nbformat_minor": 5
}
