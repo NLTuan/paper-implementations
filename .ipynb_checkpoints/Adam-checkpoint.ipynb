{
 "cells": [
  {
   "cell_type": "code",
   "execution_count": 1,
   "id": "17a580a7-10fe-44b7-a6b4-3d7d61cad8e5",
   "metadata": {},
   "outputs": [],
   "source": [
    "import torch\n",
    "from torch import tensor, nn # no optim! we're making it today!\n",
    "from torch.utils.data import Dataset, DataLoader\n",
    "import torch.nn.functional as F\n",
    "\n",
    "from torchvision import transforms"
   ]
  },
  {
   "cell_type": "code",
   "execution_count": 2,
   "id": "761a8de4-0ab6-48ba-8b80-92fe6baae9c1",
   "metadata": {},
   "outputs": [
    {
     "data": {
      "application/vnd.jupyter.widget-view+json": {
       "model_id": "94da81ff3c0f4b48b342de18c665ac44",
       "version_major": 2,
       "version_minor": 0
      },
      "text/plain": [
       "README.md:   0%|          | 0.00/6.97k [00:00<?, ?B/s]"
      ]
     },
     "metadata": {},
     "output_type": "display_data"
    },
    {
     "data": {
      "application/vnd.jupyter.widget-view+json": {
       "model_id": "eeeff67be09a47279fcaf3df8eb65694",
       "version_major": 2,
       "version_minor": 0
      },
      "text/plain": [
       "train-00000-of-00001.parquet:   0%|          | 0.00/15.6M [00:00<?, ?B/s]"
      ]
     },
     "metadata": {},
     "output_type": "display_data"
    },
    {
     "data": {
      "application/vnd.jupyter.widget-view+json": {
       "model_id": "92fe5cc814e44f769a162ccca0b96418",
       "version_major": 2,
       "version_minor": 0
      },
      "text/plain": [
       "test-00000-of-00001.parquet:   0%|          | 0.00/2.60M [00:00<?, ?B/s]"
      ]
     },
     "metadata": {},
     "output_type": "display_data"
    },
    {
     "data": {
      "application/vnd.jupyter.widget-view+json": {
       "model_id": "10a1033c1e1f46218a319109b75b1f8e",
       "version_major": 2,
       "version_minor": 0
      },
      "text/plain": [
       "Generating train split:   0%|          | 0/60000 [00:00<?, ? examples/s]"
      ]
     },
     "metadata": {},
     "output_type": "display_data"
    },
    {
     "data": {
      "application/vnd.jupyter.widget-view+json": {
       "model_id": "89c8d4075b03400f8566df71d0fcc7aa",
       "version_major": 2,
       "version_minor": 0
      },
      "text/plain": [
       "Generating test split:   0%|          | 0/10000 [00:00<?, ? examples/s]"
      ]
     },
     "metadata": {},
     "output_type": "display_data"
    }
   ],
   "source": [
    "# Load in the MNIST dataset\n",
    "from datasets import load_dataset\n",
    "\n",
    "ds = load_dataset(\"ylecun/mnist\")"
   ]
  },
  {
   "cell_type": "code",
   "execution_count": 3,
   "id": "c381ff0e-9c68-45ac-85b1-cb5364397cf3",
   "metadata": {},
   "outputs": [],
   "source": [
    "class MNIST(Dataset):\n",
    "    def __init__(self, dsd):\n",
    "        self.dsd = dsd\n",
    "        \n",
    "    def __getitem__(self, i):\n",
    "        return transforms.ToTensor()(self.dsd['image'][i]), self.dsd['label'][i]\n",
    "    \n",
    "    def __len__(self):\n",
    "        return len(self.dsd)"
   ]
  },
  {
   "cell_type": "code",
   "execution_count": 4,
   "id": "0e4d33b3-59fc-4674-9d9f-9bd51751eebc",
   "metadata": {},
   "outputs": [],
   "source": [
    "split = 0.8\n",
    "idx = int(len(ds['train']) * split)\n",
    "ds_train, ds_valid = MNIST(ds['train'][:idx]), MNIST(ds['train'][idx:])"
   ]
  },
  {
   "cell_type": "code",
   "execution_count": 9,
   "id": "2d64095b-efd6-4ae0-9df0-42d0117d98b1",
   "metadata": {},
   "outputs": [],
   "source": [
    "dl_train = DataLoader(ds_train, batch_size=2, shuffle=True)\n",
    "dl_val = DataLoader(ds_valid, batch_size=2)"
   ]
  },
  {
   "cell_type": "code",
   "execution_count": 82,
   "id": "7a9b3b29-ba3a-47ae-9a64-61c33b3497c0",
   "metadata": {},
   "outputs": [
    {
     "data": {
      "text/plain": [
       "2"
      ]
     },
     "execution_count": 82,
     "metadata": {},
     "output_type": "execute_result"
    }
   ],
   "source": [
    "len(ds_train)"
   ]
  },
  {
   "cell_type": "code",
   "execution_count": 7,
   "id": "cbb0e7e8-f6af-4989-8b1e-c883f9a21079",
   "metadata": {},
   "outputs": [
    {
     "name": "stdout",
     "output_type": "stream",
     "text": [
      "ConvModule(\n",
      "  (conv_block): Sequential(\n",
      "    (0): Conv2d(3, 16, kernel_size=(3, 3), stride=(1, 1), padding=(1, 1))\n",
      "    (1): BatchNorm2d(16, eps=1e-05, momentum=0.1, affine=True, track_running_stats=True)\n",
      "    (2): ReLU()\n",
      "  )\n",
      ")\n",
      "Output shape: torch.Size([1, 16, 64, 64])\n"
     ]
    }
   ],
   "source": [
    "class ConvModule(nn.Module):\n",
    "    def __init__(self, in_channels, out_channels, kernel_size=3, stride=1, padding=1, use_batchnorm=True, activation=nn.ReLU):\n",
    "        super(ConvModule, self).__init__()\n",
    "        \n",
    "        layers = [\n",
    "            nn.Conv2d(in_channels, out_channels, kernel_size=kernel_size, stride=stride, padding=padding),\n",
    "        ]\n",
    "        \n",
    "        if use_batchnorm:\n",
    "            layers.append(nn.BatchNorm2d(out_channels))\n",
    "        \n",
    "        if activation is not None:\n",
    "            layers.append(activation())\n",
    "        \n",
    "        self.conv_block = nn.Sequential(*layers)\n",
    "    \n",
    "    def forward(self, x):\n",
    "        return self.conv_block(x)"
   ]
  },
  {
   "cell_type": "code",
   "execution_count": 20,
   "id": "84a029d8-04b8-46fe-b7f2-47a2878b74e2",
   "metadata": {},
   "outputs": [],
   "source": [
    "class GlobalAvgPool(nn.Module):\n",
    "    def forward(self, x): return x.mean((-2, -1))"
   ]
  },
  {
   "cell_type": "code",
   "execution_count": 18,
   "id": "bc629dfe-006e-4fb1-8117-5a043ee8a330",
   "metadata": {},
   "outputs": [],
   "source": [
    "class MNIST_CNN(nn.Module):\n",
    "    def __init__(self, in_channels, out_channels, nfs=[64, 128, 256, 512]):\n",
    "        super().__init__()\n",
    "        channels = [in_channels] + nfs\n",
    "        self.net = nn.Sequential(*[ConvModule(channels[i], channels[i+1]) for i in range(len(channels) - 1)])\n",
    "        self.pool = GlobalAvgPool()\n",
    "        self.last = nn.Linear(channels[-1], out_channels, bias=False)\n",
    "        \n",
    "    def forward(self, x):\n",
    "        return self.final(self.net(x))"
   ]
  },
  {
   "cell_type": "code",
   "execution_count": 19,
   "id": "33262a96-e677-4824-a8af-5d70b70462c5",
   "metadata": {},
   "outputs": [
    {
     "ename": "TypeError",
     "evalue": "__init__() missing 1 required positional argument: 'kernel_size'",
     "output_type": "error",
     "traceback": [
      "\u001b[0;31m---------------------------------------------------------------------------\u001b[0m",
      "\u001b[0;31mTypeError\u001b[0m                                 Traceback (most recent call last)",
      "Input \u001b[0;32mIn [19]\u001b[0m, in \u001b[0;36m<cell line: 1>\u001b[0;34m()\u001b[0m\n\u001b[0;32m----> 1\u001b[0m model \u001b[38;5;241m=\u001b[39m \u001b[43mMNIST_CNN\u001b[49m\u001b[43m(\u001b[49m\u001b[38;5;241;43m3\u001b[39;49m\u001b[43m,\u001b[49m\u001b[43m \u001b[49m\u001b[38;5;241;43m10\u001b[39;49m\u001b[43m)\u001b[49m\n",
      "Input \u001b[0;32mIn [18]\u001b[0m, in \u001b[0;36mMNIST_CNN.__init__\u001b[0;34m(self, in_channels, out_channels, nfs)\u001b[0m\n\u001b[1;32m      4\u001b[0m channels \u001b[38;5;241m=\u001b[39m [in_channels] \u001b[38;5;241m+\u001b[39m nfs \u001b[38;5;241m+\u001b[39m [out_channels]\n\u001b[1;32m      5\u001b[0m \u001b[38;5;28mself\u001b[39m\u001b[38;5;241m.\u001b[39mnet \u001b[38;5;241m=\u001b[39m nn\u001b[38;5;241m.\u001b[39mSequential(\u001b[38;5;241m*\u001b[39m[ConvModule(channels[i], channels[i\u001b[38;5;241m+\u001b[39m\u001b[38;5;241m1\u001b[39m]) \u001b[38;5;28;01mfor\u001b[39;00m i \u001b[38;5;129;01min\u001b[39;00m \u001b[38;5;28mrange\u001b[39m(\u001b[38;5;28mlen\u001b[39m(channels) \u001b[38;5;241m-\u001b[39m \u001b[38;5;241m1\u001b[39m)])\n\u001b[0;32m----> 6\u001b[0m \u001b[38;5;28mself\u001b[39m\u001b[38;5;241m.\u001b[39mfinal \u001b[38;5;241m=\u001b[39m \u001b[43mnn\u001b[49m\u001b[38;5;241;43m.\u001b[39;49m\u001b[43mMaxPool2d\u001b[49m\u001b[43m(\u001b[49m\u001b[43m)\u001b[49m\n",
      "\u001b[0;31mTypeError\u001b[0m: __init__() missing 1 required positional argument: 'kernel_size'"
     ]
    }
   ],
   "source": [
    "model = MNIST_CNN(3, 10)"
   ]
  },
  {
   "cell_type": "code",
   "execution_count": 12,
   "id": "f79b9b62-9f7b-469e-842f-1b6864f8bd4a",
   "metadata": {},
   "outputs": [],
   "source": [
    "for xb, yb in dl_train:\n",
    "    out = model(xb)\n",
    "    "
   ]
  },
  {
   "cell_type": "code",
   "execution_count": null,
   "id": "64fdbb66-49b5-4239-a02a-1482982354d8",
   "metadata": {},
   "outputs": [],
   "source": []
  }
 ],
 "metadata": {
  "kernelspec": {
   "display_name": "Python 3 (ipykernel)",
   "language": "python",
   "name": "python3"
  },
  "language_info": {
   "codemirror_mode": {
    "name": "ipython",
    "version": 3
   },
   "file_extension": ".py",
   "mimetype": "text/x-python",
   "name": "python",
   "nbconvert_exporter": "python",
   "pygments_lexer": "ipython3",
   "version": "3.9.13"
  }
 },
 "nbformat": 4,
 "nbformat_minor": 5
}
