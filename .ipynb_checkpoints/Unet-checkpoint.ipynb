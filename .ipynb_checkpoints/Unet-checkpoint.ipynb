{
 "cells": [
  {
   "cell_type": "code",
   "execution_count": 5,
   "id": "a3fad8a6-2bcf-4739-8a13-8a6a12a86a1f",
   "metadata": {},
   "outputs": [],
   "source": [
    "import torch\n",
    "from torch import nn, optim, tensor\n",
    "import torch.nn.functional as F\n",
    "import torchvision.transforms.functional as TF"
   ]
  },
  {
   "cell_type": "code",
   "execution_count": 2,
   "id": "884632f9-95ef-46c3-858e-4ab96d4bf933",
   "metadata": {},
   "outputs": [],
   "source": [
    "class DoubleConvolution(nn.Module):\n",
    "    def __init__(self, n_in, n_out):\n",
    "        super().__init__()\n",
    "        self.net = nn.Sequential(\n",
    "            nn.Conv2d(n_in, n_out, kernel_size=3, stride=1),\n",
    "            nn.ReLU(),\n",
    "            nn.Conv2d(n_out, n_out, kernel_size=3, stride=1),\n",
    "            nn.ReLU()\n",
    "        )\n",
    "        \n",
    "    def forward(self, x):\n",
    "        return self.net(x)"
   ]
  },
  {
   "cell_type": "code",
   "execution_count": 3,
   "id": "219dac0e-5863-4138-b53b-4f0dffa3f2d7",
   "metadata": {},
   "outputs": [],
   "source": [
    "class Downsample(nn.Module):\n",
    "    def __init__(self, scale=2):\n",
    "        super().__init__()\n",
    "        self.pool = nn.MaxPool2d(scale)\n",
    "        \n",
    "    def forward(self, x):\n",
    "        return self.pool(x)"
   ]
  },
  {
   "cell_type": "code",
   "execution_count": 4,
   "id": "a9f88c41-ca66-4de1-98f7-50800d12115c",
   "metadata": {},
   "outputs": [],
   "source": [
    "class Upsample(nn.Module):\n",
    "    def __init__(self, scale=2, n_in):\n",
    "        super().__init__()\n",
    "        self.up_pool = nn.UpsamplingNearest2d(scale_factor=scale)\n",
    "    \n",
    "    def forward(self, x):\n",
    "        return self.up_pool(x)"
   ]
  },
  {
   "cell_type": "code",
   "execution_count": 12,
   "id": "a13b65c4-48a7-4dd7-b758-02d924d54484",
   "metadata": {},
   "outputs": [],
   "source": [
    "class CropAndCat(nn.Module):\n",
    "    def __init__(self, n_out):\n",
    "        super().__init__()\n",
    "        self.n_out = n_out\n",
    "        \n",
    "    def forward(self, x):\n",
    "        return TF.center_crop(x)"
   ]
  },
  {
   "cell_type": "code",
   "execution_count": 3,
   "id": "055cef48-90a7-46bf-b8eb-088c4b35342b",
   "metadata": {},
   "outputs": [],
   "source": [
    "class UNet(nn.Module):\n",
    "    def __init__(self, input_channels):\n",
    "        super().__init__()\n",
    "        self.first = nn.Conv2d(input_channels, 64, kernel_size=3, stride=1),\n",
    "        self.down_double_convs = nn.ModuleList([DoubleConvolution(i, i) for i in [64, 128, 256, 513, 1024]])\n",
    "        self.up_double_convs = nn.ModuleList([DoubleConvolution(i, i) for i in reversed([64, 128, 256, 513, 1024])])\n",
    "        \n",
    "        "
   ]
  },
  {
   "cell_type": "code",
   "execution_count": 7,
   "id": "8c8f7485-8cf2-4332-aece-f0630c75785c",
   "metadata": {},
   "outputs": [],
   "source": [
    "a = torch.randn(1, 3, 256, 256)"
   ]
  },
  {
   "cell_type": "code",
   "execution_count": null,
   "id": "ef11bb2d-eb68-4b14-bb57-a5ccb6a0da81",
   "metadata": {},
   "outputs": [],
   "source": []
  }
 ],
 "metadata": {
  "kernelspec": {
   "display_name": "Python 3 (ipykernel)",
   "language": "python",
   "name": "python3"
  },
  "language_info": {
   "codemirror_mode": {
    "name": "ipython",
    "version": 3
   },
   "file_extension": ".py",
   "mimetype": "text/x-python",
   "name": "python",
   "nbconvert_exporter": "python",
   "pygments_lexer": "ipython3",
   "version": "3.9.13"
  }
 },
 "nbformat": 4,
 "nbformat_minor": 5
}
