{
 "cells": [
  {
   "cell_type": "code",
   "execution_count": 1,
   "id": "a3fad8a6-2bcf-4739-8a13-8a6a12a86a1f",
   "metadata": {},
   "outputs": [],
   "source": [
    "import torch\n",
    "from torch import nn, optim, tensor\n",
    "import torch.nn.functional as F\n",
    "import torchvision.transforms.functional as TF"
   ]
  },
  {
   "cell_type": "code",
   "execution_count": 2,
   "id": "884632f9-95ef-46c3-858e-4ab96d4bf933",
   "metadata": {},
   "outputs": [],
   "source": [
    "class DoubleConvolution(nn.Module):\n",
    "    def __init__(self, n_in, n_out):\n",
    "        super().__init__()\n",
    "        self.net = nn.Sequential(\n",
    "            nn.Conv2d(n_in, n_out, kernel_size=3, stride=1),\n",
    "            nn.ReLU(),\n",
    "            nn.Conv2d(n_out, n_out, kernel_size=3, stride=1),\n",
    "            nn.ReLU()\n",
    "        )\n",
    "        \n",
    "    def forward(self, x):\n",
    "        return self.net(x)"
   ]
  },
  {
   "cell_type": "code",
   "execution_count": 3,
   "id": "219dac0e-5863-4138-b53b-4f0dffa3f2d7",
   "metadata": {},
   "outputs": [],
   "source": [
    "class Downsample(nn.Module):\n",
    "    def __init__(self, scale=2):\n",
    "        super().__init__()\n",
    "        self.pool = nn.MaxPool2d(scale)\n",
    "        \n",
    "    def forward(self, x):\n",
    "        return self.pool(x)"
   ]
  },
  {
   "cell_type": "code",
   "execution_count": 4,
   "id": "a9f88c41-ca66-4de1-98f7-50800d12115c",
   "metadata": {},
   "outputs": [],
   "source": [
    "class Upsample(nn.Module):\n",
    "    def __init__(self, n_in, n_out, scale=2):\n",
    "        super().__init__()\n",
    "        self.up_pool = nn.UpsamplingNearest2d(scale_factor=scale)\n",
    "        self.conv = nn.Conv2d(n_in, n_out, kernel_size=3, stride=1, padding=1)\n",
    "        self.relu = nn.ReLU()\n",
    "        \n",
    "    def forward(self, x):\n",
    "        return self.relu(self.conv(self.up_pool(x)))"
   ]
  },
  {
   "cell_type": "code",
   "execution_count": 5,
   "id": "a13b65c4-48a7-4dd7-b758-02d924d54484",
   "metadata": {},
   "outputs": [],
   "source": [
    "class CropAndCat(nn.Module):\n",
    "    def forward(self, x, proj_tns):\n",
    "        proj = TF.center_crop(proj_tns, [x.shape[2], x.shape[3]])\n",
    "        out = torch.cat([x, proj], dim=1)\n",
    "        return out"
   ]
  },
  {
   "cell_type": "code",
   "execution_count": 30,
   "id": "055cef48-90a7-46bf-b8eb-088c4b35342b",
   "metadata": {},
   "outputs": [],
   "source": [
    "channels = [64, 128, 256, 512, 1024]\n",
    "class UNet(nn.Module):\n",
    "    def __init__(self, input_channels, output_channels):\n",
    "        super().__init__()\n",
    "        self.first = DoubleConvolution(input_channels, channels[0])\n",
    "        self.down_double_convs = nn.ModuleList([DoubleConvolution(channels[i], channels[i+1]) for i in range(len(channels)-1)])\n",
    "        self.down_samples = nn.ModuleList([Downsample() for i in range(4)])\n",
    "        \n",
    "        self.up_double_convs = nn.ModuleList([DoubleConvolution(channels[i], channels[i-1]) for i in range(-1, -len(channels), -1)])\n",
    "        self.up_samples = nn.ModuleList([Upsample(channels[i], channels[i-1]) for i in range(-1, -len(channels), -1)])\n",
    "        self.crop_and_cat = nn.ModuleList([CropAndCat() for i in range(4)])\n",
    "        \n",
    "        self.last = nn.Conv2d(input_channels, output_channels, kernel_size=1, stride=1)\n",
    "        \n",
    "    def forward(self, x):\n",
    "        x = self.first(x)\n",
    "        \n",
    "        pass_through = []\n",
    "        \n",
    "        print(x.shape)\n",
    "        pass_through.append(x)\n",
    "        for i, mod in enumerate(self.down_double_convs):\n",
    "            x = self.down_samples[i](x)\n",
    "            x = mod(x)\n",
    "            print(x.shape)\n",
    "            pass_through.append(x)\n",
    "\n",
    "        pass_through.pop() # get rid of the last projection since its not needed\n",
    "        for i, mod in enumerate(self.up_double_convs):\n",
    "            x = self.up_samples[i](x)\n",
    "            \n",
    "            proj = pass_through.pop()\n",
    "            x = self.crop_and_cat[i](x, proj)\n",
    "            x = mod(x)\n",
    "        \n",
    "        return x"
   ]
  },
  {
   "cell_type": "code",
   "execution_count": 31,
   "id": "8c8f7485-8cf2-4332-aece-f0630c75785c",
   "metadata": {},
   "outputs": [],
   "source": [
    "a = torch.randn(2, 1, 572, 572)\n",
    "unet = UNet(1, 1)"
   ]
  },
  {
   "cell_type": "code",
   "execution_count": 32,
   "id": "ef11bb2d-eb68-4b14-bb57-a5ccb6a0da81",
   "metadata": {},
   "outputs": [
    {
     "name": "stdout",
     "output_type": "stream",
     "text": [
      "torch.Size([2, 64, 568, 568])\n",
      "torch.Size([2, 128, 280, 280])\n",
      "torch.Size([2, 256, 136, 136])\n",
      "torch.Size([2, 512, 64, 64])\n",
      "torch.Size([2, 1024, 28, 28])\n"
     ]
    },
    {
     "data": {
      "text/plain": [
       "torch.Size([2, 64, 388, 388])"
      ]
     },
     "execution_count": 32,
     "metadata": {},
     "output_type": "execute_result"
    }
   ],
   "source": [
    "unet(a).shape"
   ]
  },
  {
   "cell_type": "code",
   "execution_count": 10,
   "id": "c75a46b7-a402-45d9-afec-d13117804927",
   "metadata": {},
   "outputs": [
    {
     "data": {
      "text/plain": [
       "UNet(\n",
       "  (first): Conv2d(1, 64, kernel_size=(3, 3), stride=(1, 1))\n",
       "  (down_double_convs): ModuleList(\n",
       "    (0): DoubleConvolution(\n",
       "      (net): Sequential(\n",
       "        (0): Conv2d(64, 64, kernel_size=(3, 3), stride=(1, 1))\n",
       "        (1): ReLU()\n",
       "        (2): Conv2d(64, 64, kernel_size=(3, 3), stride=(1, 1))\n",
       "        (3): ReLU()\n",
       "      )\n",
       "    )\n",
       "    (1): DoubleConvolution(\n",
       "      (net): Sequential(\n",
       "        (0): Conv2d(128, 128, kernel_size=(3, 3), stride=(1, 1))\n",
       "        (1): ReLU()\n",
       "        (2): Conv2d(128, 128, kernel_size=(3, 3), stride=(1, 1))\n",
       "        (3): ReLU()\n",
       "      )\n",
       "    )\n",
       "    (2): DoubleConvolution(\n",
       "      (net): Sequential(\n",
       "        (0): Conv2d(256, 256, kernel_size=(3, 3), stride=(1, 1))\n",
       "        (1): ReLU()\n",
       "        (2): Conv2d(256, 256, kernel_size=(3, 3), stride=(1, 1))\n",
       "        (3): ReLU()\n",
       "      )\n",
       "    )\n",
       "    (3): DoubleConvolution(\n",
       "      (net): Sequential(\n",
       "        (0): Conv2d(512, 512, kernel_size=(3, 3), stride=(1, 1))\n",
       "        (1): ReLU()\n",
       "        (2): Conv2d(512, 512, kernel_size=(3, 3), stride=(1, 1))\n",
       "        (3): ReLU()\n",
       "      )\n",
       "    )\n",
       "    (4): DoubleConvolution(\n",
       "      (net): Sequential(\n",
       "        (0): Conv2d(1024, 1024, kernel_size=(3, 3), stride=(1, 1))\n",
       "        (1): ReLU()\n",
       "        (2): Conv2d(1024, 1024, kernel_size=(3, 3), stride=(1, 1))\n",
       "        (3): ReLU()\n",
       "      )\n",
       "    )\n",
       "  )\n",
       "  (down_samples): ModuleList(\n",
       "    (0): Downsample(\n",
       "      (pool): MaxPool2d(kernel_size=2, stride=2, padding=0, dilation=1, ceil_mode=False)\n",
       "    )\n",
       "    (1): Downsample(\n",
       "      (pool): MaxPool2d(kernel_size=2, stride=2, padding=0, dilation=1, ceil_mode=False)\n",
       "    )\n",
       "    (2): Downsample(\n",
       "      (pool): MaxPool2d(kernel_size=2, stride=2, padding=0, dilation=1, ceil_mode=False)\n",
       "    )\n",
       "    (3): Downsample(\n",
       "      (pool): MaxPool2d(kernel_size=2, stride=2, padding=0, dilation=1, ceil_mode=False)\n",
       "    )\n",
       "  )\n",
       "  (up_double_convs): ModuleList(\n",
       "    (0): DoubleConvolution(\n",
       "      (net): Sequential(\n",
       "        (0): Conv2d(1024, 512, kernel_size=(3, 3), stride=(1, 1))\n",
       "        (1): ReLU()\n",
       "        (2): Conv2d(512, 512, kernel_size=(3, 3), stride=(1, 1))\n",
       "        (3): ReLU()\n",
       "      )\n",
       "    )\n",
       "    (1): DoubleConvolution(\n",
       "      (net): Sequential(\n",
       "        (0): Conv2d(512, 256, kernel_size=(3, 3), stride=(1, 1))\n",
       "        (1): ReLU()\n",
       "        (2): Conv2d(256, 256, kernel_size=(3, 3), stride=(1, 1))\n",
       "        (3): ReLU()\n",
       "      )\n",
       "    )\n",
       "    (2): DoubleConvolution(\n",
       "      (net): Sequential(\n",
       "        (0): Conv2d(256, 128, kernel_size=(3, 3), stride=(1, 1))\n",
       "        (1): ReLU()\n",
       "        (2): Conv2d(128, 128, kernel_size=(3, 3), stride=(1, 1))\n",
       "        (3): ReLU()\n",
       "      )\n",
       "    )\n",
       "    (3): DoubleConvolution(\n",
       "      (net): Sequential(\n",
       "        (0): Conv2d(128, 64, kernel_size=(3, 3), stride=(1, 1))\n",
       "        (1): ReLU()\n",
       "        (2): Conv2d(64, 64, kernel_size=(3, 3), stride=(1, 1))\n",
       "        (3): ReLU()\n",
       "      )\n",
       "    )\n",
       "  )\n",
       "  (up_samples): ModuleList(\n",
       "    (0): Upsample(\n",
       "      (up_pool): UpsamplingNearest2d(scale_factor=2.0, mode=nearest)\n",
       "      (conv): Conv2d(1024, 512, kernel_size=(3, 3), stride=(1, 1), padding=(1, 1))\n",
       "      (relu): ReLU()\n",
       "    )\n",
       "    (1): Upsample(\n",
       "      (up_pool): UpsamplingNearest2d(scale_factor=2.0, mode=nearest)\n",
       "      (conv): Conv2d(512, 256, kernel_size=(3, 3), stride=(1, 1), padding=(1, 1))\n",
       "      (relu): ReLU()\n",
       "    )\n",
       "    (2): Upsample(\n",
       "      (up_pool): UpsamplingNearest2d(scale_factor=2.0, mode=nearest)\n",
       "      (conv): Conv2d(256, 128, kernel_size=(3, 3), stride=(1, 1), padding=(1, 1))\n",
       "      (relu): ReLU()\n",
       "    )\n",
       "    (3): Upsample(\n",
       "      (up_pool): UpsamplingNearest2d(scale_factor=2.0, mode=nearest)\n",
       "      (conv): Conv2d(128, 64, kernel_size=(3, 3), stride=(1, 1), padding=(1, 1))\n",
       "      (relu): ReLU()\n",
       "    )\n",
       "  )\n",
       "  (crop_and_cat): ModuleList(\n",
       "    (0): CropAndCat()\n",
       "    (1): CropAndCat()\n",
       "    (2): CropAndCat()\n",
       "    (3): CropAndCat()\n",
       "  )\n",
       "  (last): Conv2d(1, 1, kernel_size=(1, 1), stride=(1, 1))\n",
       ")"
      ]
     },
     "execution_count": 10,
     "metadata": {},
     "output_type": "execute_result"
    }
   ],
   "source": [
    "unet"
   ]
  },
  {
   "cell_type": "code",
   "execution_count": null,
   "id": "7009ba3f-e8e6-4db1-9599-ad969c50bde0",
   "metadata": {},
   "outputs": [],
   "source": []
  }
 ],
 "metadata": {
  "kernelspec": {
   "display_name": "Python 3 (ipykernel)",
   "language": "python",
   "name": "python3"
  },
  "language_info": {
   "codemirror_mode": {
    "name": "ipython",
    "version": 3
   },
   "file_extension": ".py",
   "mimetype": "text/x-python",
   "name": "python",
   "nbconvert_exporter": "python",
   "pygments_lexer": "ipython3",
   "version": "3.9.13"
  }
 },
 "nbformat": 4,
 "nbformat_minor": 5
}
